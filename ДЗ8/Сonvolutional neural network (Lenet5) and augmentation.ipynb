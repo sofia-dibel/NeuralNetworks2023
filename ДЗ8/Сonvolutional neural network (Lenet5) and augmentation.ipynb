{
 "cells": [
  {
   "cell_type": "markdown",
   "metadata": {},
   "source": [
    "## Свёрточные нейронные сети и аугментация данных\n",
    "В этом задании необходимо обучить конволюционную нейросеть типа сети LeNet5, предложенную Яном Лекуном в 1998 году, для распознавания рукописных цифр из базы данных MNIST.  \n",
    "Код ниже предлагает базовый вариант обучения, который даёт около 98-99% точности на тестовой выборке.  \n",
    "Необходимо чуть-чуть улучшить данный код, введя **аугментацию** данных, т.е. расширить обучающий датасет за счёт дополнительных искажений исходных картинок:  \n",
    " - небольших случайных поворотов (rotate), \n",
    " - дрожания (jitter), \n",
    " - кроппинга (crop) \n",
    " - и др.   \n",
    "Для трансформации картинок используйте методы библиотеки `torchvision.transforms`, про которые можно прочитать [здесь](https://pytorch.org/vision/stable/transforms.html)  \n",
    "Целью задания является - получить точность на тестовой выборке 99.5%.\n"
   ]
  },
  {
   "cell_type": "code",
   "execution_count": 1,
   "metadata": {},
   "outputs": [
    {
     "name": "stdout",
     "output_type": "stream",
     "text": [
      "cpu\n"
     ]
    }
   ],
   "source": [
    "import torch\n",
    "import torch.nn as nn\n",
    "import torchvision\n",
    "import torchvision.transforms as transforms\n",
    "from torchvision.transforms import v2\n",
    "from matplotlib import pyplot  as plt\n",
    "\n",
    "# Device configuration\n",
    "device = torch.device('cuda' if torch.cuda.is_available() else 'cpu')\n",
    "print(device)\n",
    "\n",
    "# Hyper-parameters \n",
    "input_size = 784\n",
    "hidden_size = 500\n",
    "num_classes = 10\n",
    "num_epochs = 5\n",
    "batch_size = 100\n",
    "learning_rate = 0.001"
   ]
  },
  {
   "cell_type": "markdown",
   "metadata": {},
   "source": [
    "# 1 Этап - подготовка данных!"
   ]
  },
  {
   "cell_type": "code",
   "execution_count": 8,
   "metadata": {},
   "outputs": [],
   "source": [
    "train_transform = transforms.Compose(\n",
    "                    [\n",
    "#                     transforms.ToPILImage(),\n",
    "#                     transforms.RandomAffine(degrees=20, translate=(0.1,0.1), scale=(0.9, 1.1)),\n",
    "#                     transforms.ColorJitter(brightness=0.2, contrast=0.2),\n",
    "                    transforms.ToTensor(),\n",
    "                    transforms.RandomRotation(20),\n",
    "                    v2.ColorJitter(brightness=.2),\n",
    "#                     v2.CenterCrop(50),\n",
    "                    v2.RandomPerspective(distortion_scale=0.2, p=0.3),\n",
    "#                     v2.ElasticTransform(alpha=70.0),\n",
    "                    ])"
   ]
  },
  {
   "cell_type": "code",
   "execution_count": 9,
   "metadata": {},
   "outputs": [],
   "source": [
    "# MNIST dataset \n",
    "train_dataset = torchvision.datasets.MNIST(root='../../data', \n",
    "                                           train=True, \n",
    "                                           transform=train_transform,  \n",
    "                                           download=True)\n",
    "\n",
    "test_dataset = torchvision.datasets.MNIST(root='../../data', \n",
    "                                          train=False, \n",
    "                                          transform=transforms.ToTensor())\n",
    "\n",
    "# Data loader\n",
    "train_loader = torch.utils.data.DataLoader(dataset=train_dataset, \n",
    "                                           batch_size=batch_size, \n",
    "                                           shuffle=True)\n",
    "\n",
    "test_loader = torch.utils.data.DataLoader(dataset=test_dataset, \n",
    "                                          batch_size=batch_size, \n",
    "                                          shuffle=False)\n"
   ]
  },
  {
   "cell_type": "markdown",
   "metadata": {},
   "source": [
    "# 2 Этап - Нейронная сеть!"
   ]
  },
  {
   "cell_type": "markdown",
   "metadata": {},
   "source": [
    "<img src='Lenet5.png'>"
   ]
  },
  {
   "cell_type": "code",
   "execution_count": 10,
   "metadata": {},
   "outputs": [],
   "source": [
    "# Fully connected neural network with one hidden layer\n",
    "class Lenet5(nn.Module):\n",
    "    def __init__(self, hidden_size1=500, num_classes=10):\n",
    "        super().__init__()\n",
    "        self.conv1 = nn.Conv2d(in_channels=1, out_channels=20, kernel_size=5, stride=1, padding=0)\n",
    "        self.batchnorm1 = nn.BatchNorm2d(20)\n",
    "        self.maxpool = nn.MaxPool2d(kernel_size=2, stride=2)\n",
    "        self.conv2 = nn.Conv2d(in_channels=20, out_channels=50, kernel_size=5, stride=1, padding=0)\n",
    "        self.batchnorm2 = nn.BatchNorm2d(50)\n",
    "        self.relu = nn.ReLU()\n",
    "        self.fc1 = nn.Linear(50 * 4 * 4, hidden_size1) # fully connected\n",
    "        self.fc2 = nn.Linear(hidden_size1, num_classes)  \n",
    "    \n",
    "    def forward(self, x): # вход размера 1 x 28 x 28\n",
    "        out = self.conv1(x) # на выходе размер 20 x 24 x 24\n",
    "        out = self.batchnorm1(out)\n",
    "        out = self.maxpool(out) # на выходе размер 20 x 12 x 12\n",
    "        out = self.relu(out)\n",
    "        out = self.conv2(out)  # на выходе размер 50 x 8 x 8\n",
    "        out = self.batchnorm2(out)\n",
    "        out = self.maxpool(out) # на выходе размер 50 x 4 x 4\n",
    "        out = self.relu(out)\n",
    "        out = out.reshape(-1, 50 * 4 * 4) # на выходе размер 800\n",
    "        out = self.fc1(out) # на выходе размер 500\n",
    "        out = self.relu(out)\n",
    "        out = self.fc2(out) # на выходе размер 10\n",
    "        \n",
    "        return out\n",
    "\n",
    "model = Lenet5(hidden_size1=500, num_classes=10).to(device)\n"
   ]
  },
  {
   "cell_type": "markdown",
   "metadata": {},
   "source": [
    "# 3 этап - Loss-функция и оптимизатор"
   ]
  },
  {
   "cell_type": "code",
   "execution_count": 11,
   "metadata": {},
   "outputs": [],
   "source": [
    "# Loss and optimizer\n",
    "criterion = nn.CrossEntropyLoss()\n",
    "optimizer = torch.optim.Adam(model.parameters(), lr=learning_rate)"
   ]
  },
  {
   "cell_type": "markdown",
   "metadata": {},
   "source": [
    "# 4 этап - обучение нейросети"
   ]
  },
  {
   "cell_type": "markdown",
   "metadata": {},
   "source": [
    "Без трансформеров:"
   ]
  },
  {
   "cell_type": "code",
   "execution_count": 5,
   "metadata": {},
   "outputs": [
    {
     "name": "stdout",
     "output_type": "stream",
     "text": [
      "Epoch [1/5], Step [100/600], Loss: 0.1745\n",
      "Epoch [1/5], Step [200/600], Loss: 0.0559\n",
      "Epoch [1/5], Step [300/600], Loss: 0.0214\n",
      "Epoch [1/5], Step [400/600], Loss: 0.0899\n",
      "Epoch [1/5], Step [500/600], Loss: 0.0714\n",
      "Epoch [1/5], Step [600/600], Loss: 0.0412\n",
      "Accuracy of the network on the 10000 test images: 98.49 %\n",
      "Epoch [2/5], Step [100/600], Loss: 0.0645\n",
      "Epoch [2/5], Step [200/600], Loss: 0.0974\n",
      "Epoch [2/5], Step [300/600], Loss: 0.0042\n",
      "Epoch [2/5], Step [400/600], Loss: 0.0151\n",
      "Epoch [2/5], Step [500/600], Loss: 0.0118\n",
      "Epoch [2/5], Step [600/600], Loss: 0.0051\n",
      "Accuracy of the network on the 10000 test images: 98.97 %\n",
      "Epoch [3/5], Step [100/600], Loss: 0.0581\n",
      "Epoch [3/5], Step [200/600], Loss: 0.0270\n",
      "Epoch [3/5], Step [300/600], Loss: 0.0576\n",
      "Epoch [3/5], Step [400/600], Loss: 0.0005\n",
      "Epoch [3/5], Step [500/600], Loss: 0.0841\n",
      "Epoch [3/5], Step [600/600], Loss: 0.0127\n",
      "Accuracy of the network on the 10000 test images: 99.01 %\n",
      "Epoch [4/5], Step [100/600], Loss: 0.0069\n",
      "Epoch [4/5], Step [200/600], Loss: 0.0172\n",
      "Epoch [4/5], Step [300/600], Loss: 0.0262\n",
      "Epoch [4/5], Step [400/600], Loss: 0.0028\n",
      "Epoch [4/5], Step [500/600], Loss: 0.0503\n",
      "Epoch [4/5], Step [600/600], Loss: 0.0025\n",
      "Accuracy of the network on the 10000 test images: 98.92 %\n",
      "Epoch [5/5], Step [100/600], Loss: 0.0453\n",
      "Epoch [5/5], Step [200/600], Loss: 0.0074\n",
      "Epoch [5/5], Step [300/600], Loss: 0.1384\n",
      "Epoch [5/5], Step [400/600], Loss: 0.0004\n",
      "Epoch [5/5], Step [500/600], Loss: 0.0259\n",
      "Epoch [5/5], Step [600/600], Loss: 0.0089\n",
      "Accuracy of the network on the 10000 test images: 98.99 %\n"
     ]
    }
   ],
   "source": [
    "# Train the model\n",
    "total_step = len(train_loader)\n",
    "for epoch in range(num_epochs):\n",
    "    for i, (images, labels) in enumerate(train_loader):  \n",
    "        # Move tensors to the configured device\n",
    "        #images = images.reshape(-1, 28*28).to(device)\n",
    "        images = images.to(device)\n",
    "        labels = labels.to(device)\n",
    "        \n",
    "        # Forward pass\n",
    "        outputs = model(images)\n",
    "        loss = criterion(outputs, labels)\n",
    "        \n",
    "        # Backward and optimize\n",
    "        optimizer.zero_grad()\n",
    "        loss.backward()\n",
    "        optimizer.step()\n",
    "        \n",
    "        if (i+1) % 100 == 0:\n",
    "            print ('Epoch [{}/{}], Step [{}/{}], Loss: {:.4f}' \n",
    "                   .format(epoch+1, num_epochs, i+1, total_step, loss.item()))\n",
    "    # Test the model\n",
    "    # In test phase, we don't need to compute gradients (for memory efficiency)\n",
    "    with torch.no_grad():\n",
    "        correct = 0\n",
    "        total = 0\n",
    "        for images, labels in test_loader:\n",
    "            #images = images.reshape(-1, 28*28).to(device)\n",
    "            images = images.to(device)\n",
    "            labels = labels.to(device)\n",
    "            outputs = model(images)\n",
    "            _, predicted = torch.max(outputs.data, 1)\n",
    "            total += labels.size(0)\n",
    "            correct += (predicted == labels).sum().item()\n",
    "\n",
    "        print('Accuracy of the network on the 10000 test images: {} %'.format(100 * correct / total))\n",
    "\n",
    "    # Save the model checkpoint\n",
    "    torch.save(model.state_dict(), 'model.ckpt')"
   ]
  },
  {
   "cell_type": "markdown",
   "metadata": {},
   "source": [
    "С трансформерами:"
   ]
  },
  {
   "cell_type": "code",
   "execution_count": 12,
   "metadata": {},
   "outputs": [
    {
     "name": "stdout",
     "output_type": "stream",
     "text": [
      "Epoch [1/5], Step [100/600], Loss: 0.2197\n",
      "Epoch [1/5], Step [200/600], Loss: 0.0434\n",
      "Epoch [1/5], Step [300/600], Loss: 0.0787\n",
      "Epoch [1/5], Step [400/600], Loss: 0.0386\n",
      "Epoch [1/5], Step [500/600], Loss: 0.0654\n",
      "Epoch [1/5], Step [600/600], Loss: 0.0877\n",
      "Accuracy of the network on the 10000 test images: 98.74 %\n",
      "Epoch [2/5], Step [100/600], Loss: 0.0487\n",
      "Epoch [2/5], Step [200/600], Loss: 0.0680\n",
      "Epoch [2/5], Step [300/600], Loss: 0.0117\n",
      "Epoch [2/5], Step [400/600], Loss: 0.0593\n",
      "Epoch [2/5], Step [500/600], Loss: 0.0526\n",
      "Epoch [2/5], Step [600/600], Loss: 0.0125\n",
      "Accuracy of the network on the 10000 test images: 99.13 %\n",
      "Epoch [3/5], Step [100/600], Loss: 0.0424\n",
      "Epoch [3/5], Step [200/600], Loss: 0.0446\n",
      "Epoch [3/5], Step [300/600], Loss: 0.0475\n",
      "Epoch [3/5], Step [400/600], Loss: 0.0078\n",
      "Epoch [3/5], Step [500/600], Loss: 0.0763\n",
      "Epoch [3/5], Step [600/600], Loss: 0.0609\n",
      "Accuracy of the network on the 10000 test images: 99.06 %\n",
      "Epoch [4/5], Step [100/600], Loss: 0.0621\n",
      "Epoch [4/5], Step [200/600], Loss: 0.0478\n",
      "Epoch [4/5], Step [300/600], Loss: 0.0182\n",
      "Epoch [4/5], Step [400/600], Loss: 0.0168\n",
      "Epoch [4/5], Step [500/600], Loss: 0.0107\n",
      "Epoch [4/5], Step [600/600], Loss: 0.0438\n",
      "Accuracy of the network on the 10000 test images: 99.28 %\n",
      "Epoch [5/5], Step [100/600], Loss: 0.0084\n",
      "Epoch [5/5], Step [200/600], Loss: 0.0288\n",
      "Epoch [5/5], Step [300/600], Loss: 0.0409\n",
      "Epoch [5/5], Step [400/600], Loss: 0.0484\n",
      "Epoch [5/5], Step [500/600], Loss: 0.0477\n",
      "Epoch [5/5], Step [600/600], Loss: 0.0648\n",
      "Accuracy of the network on the 10000 test images: 99.31 %\n"
     ]
    }
   ],
   "source": [
    "# Train the model\n",
    "total_step = len(train_loader)\n",
    "for epoch in range(num_epochs):\n",
    "    for i, (images, labels) in enumerate(train_loader):  \n",
    "        # Move tensors to the configured device\n",
    "        #images = images.reshape(-1, 28*28).to(device)\n",
    "        images = images.to(device)\n",
    "        labels = labels.to(device)\n",
    "        \n",
    "        # Forward pass\n",
    "        outputs = model(images)\n",
    "        loss = criterion(outputs, labels)\n",
    "        \n",
    "        # Backward and optimize\n",
    "        optimizer.zero_grad()\n",
    "        loss.backward()\n",
    "        optimizer.step()\n",
    "        \n",
    "        if (i+1) % 100 == 0:\n",
    "            print ('Epoch [{}/{}], Step [{}/{}], Loss: {:.4f}' \n",
    "                   .format(epoch+1, num_epochs, i+1, total_step, loss.item()))\n",
    "    # Test the model\n",
    "    # In test phase, we don't need to compute gradients (for memory efficiency)\n",
    "    with torch.no_grad():\n",
    "        correct = 0\n",
    "        total = 0\n",
    "        for images, labels in test_loader:\n",
    "            #images = images.reshape(-1, 28*28).to(device)\n",
    "            images = images.to(device)\n",
    "            labels = labels.to(device)\n",
    "            outputs = model(images)\n",
    "            _, predicted = torch.max(outputs.data, 1)\n",
    "            total += labels.size(0)\n",
    "            correct += (predicted == labels).sum().item()\n",
    "\n",
    "        print('Accuracy of the network on the 10000 test images: {} %'.format(100 * correct / total))\n",
    "\n",
    "    # Save the model checkpoint\n",
    "    torch.save(model.state_dict(), 'model.ckpt')"
   ]
  }
 ],
 "metadata": {
  "kernelspec": {
   "display_name": "Python 3 (ipykernel)",
   "language": "python",
   "name": "python3"
  },
  "language_info": {
   "codemirror_mode": {
    "name": "ipython",
    "version": 3
   },
   "file_extension": ".py",
   "mimetype": "text/x-python",
   "name": "python",
   "nbconvert_exporter": "python",
   "pygments_lexer": "ipython3",
   "version": "3.11.6"
  }
 },
 "nbformat": 4,
 "nbformat_minor": 2
}
